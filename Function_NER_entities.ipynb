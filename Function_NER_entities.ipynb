{
 "cells": [
  {
   "cell_type": "code",
   "execution_count": 194,
   "metadata": {},
   "outputs": [],
   "source": [
    "import pandas as pd"
   ]
  },
  {
   "cell_type": "code",
   "execution_count": 195,
   "metadata": {},
   "outputs": [],
   "source": [
    "data1 = pd.read_csv(\"C:\\\\Users\\\\manish_gupta38\\\\Desktop\\\\ner_comp.csv\")"
   ]
  },
  {
   "cell_type": "code",
   "execution_count": 196,
   "metadata": {},
   "outputs": [],
   "source": [
    "def named_entity(data):\n",
    "    ls1 = []\n",
    "    count = data[\"Entities_Count\"]\n",
    "    for i in range(0,len(count)):\n",
    "        d1 = data[\"Text\"][i]\n",
    "        ls = []\n",
    "        if count[i].astype(str) != 'nan':\n",
    "            for j in range(0,int(count[i])):\n",
    "                l2 = (data.iloc[i,2+3*j],data.iloc[i,3+3*j],data.iloc[i,4+3*j])\n",
    "                ls.append(l2)\n",
    "        else:\n",
    "            ls.append([])\n",
    "\n",
    "        l4 = {\"entities\" : ls}\n",
    "        tup2 = (d1, l4)\n",
    "        ls1.append(tup2)\n",
    "    return(ls1)"
   ]
  },
  {
   "cell_type": "code",
   "execution_count": 197,
   "metadata": {},
   "outputs": [],
   "source": [
    "res  = named_entity(data1)"
   ]
  },
  {
   "cell_type": "code",
   "execution_count": 204,
   "metadata": {},
   "outputs": [
    {
     "data": {
      "text/plain": [
       "[('Horses are too tall and they pretend to care about your feelings',\n",
       "  {'entities': [(0.0, 6.0, 'ANIMAL'),\n",
       "    (8.0, 11.0, 'Determiner'),\n",
       "    (17.0, 20.0, 'Adjective')]}),\n",
       " ('Do they bite?', {'entities': [[]]}),\n",
       " ('horses are too tall and they pretend to care about your feelings',\n",
       "  {'entities': [(0.0, 6.0, 'ANIMAL'), (8.0, 11.0, 'Verb')]}),\n",
       " ('they pretend to care about your feelings, those horses',\n",
       "  {'entities': [(48.0, 54.0, 'ANIMAL')]}),\n",
       " ('horses?', {'entities': [(0.0, 6.0, 'ANIMAL')]}),\n",
       " ('Horse is a national animal.',\n",
       "  {'entities': [(0.0, 5.0, 'ANIMAL'), (7.0, 8.0, 'Verb')]})]"
      ]
     },
     "execution_count": 204,
     "metadata": {},
     "output_type": "execute_result"
    }
   ],
   "source": [
    "res"
   ]
  },
  {
   "cell_type": "code",
   "execution_count": 198,
   "metadata": {},
   "outputs": [],
   "source": [
    "res_final = pd.DataFrame(res)"
   ]
  },
  {
   "cell_type": "code",
   "execution_count": 199,
   "metadata": {},
   "outputs": [],
   "source": [
    "res_final.columns = [\"Text\", \"Entities\"]"
   ]
  },
  {
   "cell_type": "code",
   "execution_count": 200,
   "metadata": {},
   "outputs": [
    {
     "data": {
      "text/html": [
       "<div>\n",
       "<style scoped>\n",
       "    .dataframe tbody tr th:only-of-type {\n",
       "        vertical-align: middle;\n",
       "    }\n",
       "\n",
       "    .dataframe tbody tr th {\n",
       "        vertical-align: top;\n",
       "    }\n",
       "\n",
       "    .dataframe thead th {\n",
       "        text-align: right;\n",
       "    }\n",
       "</style>\n",
       "<table border=\"1\" class=\"dataframe\">\n",
       "  <thead>\n",
       "    <tr style=\"text-align: right;\">\n",
       "      <th></th>\n",
       "      <th>Text</th>\n",
       "      <th>Entities</th>\n",
       "    </tr>\n",
       "  </thead>\n",
       "  <tbody>\n",
       "    <tr>\n",
       "      <th>0</th>\n",
       "      <td>Horses are too tall and they pretend to care a...</td>\n",
       "      <td>{'entities': [(0.0, 6.0, 'ANIMAL'), (8.0, 11.0...</td>\n",
       "    </tr>\n",
       "    <tr>\n",
       "      <th>1</th>\n",
       "      <td>Do they bite?</td>\n",
       "      <td>{'entities': [[]]}</td>\n",
       "    </tr>\n",
       "    <tr>\n",
       "      <th>2</th>\n",
       "      <td>horses are too tall and they pretend to care a...</td>\n",
       "      <td>{'entities': [(0.0, 6.0, 'ANIMAL'), (8.0, 11.0...</td>\n",
       "    </tr>\n",
       "    <tr>\n",
       "      <th>3</th>\n",
       "      <td>they pretend to care about your feelings, thos...</td>\n",
       "      <td>{'entities': [(48.0, 54.0, 'ANIMAL')]}</td>\n",
       "    </tr>\n",
       "    <tr>\n",
       "      <th>4</th>\n",
       "      <td>horses?</td>\n",
       "      <td>{'entities': [(0.0, 6.0, 'ANIMAL')]}</td>\n",
       "    </tr>\n",
       "    <tr>\n",
       "      <th>5</th>\n",
       "      <td>Horse is a national animal.</td>\n",
       "      <td>{'entities': [(0.0, 5.0, 'ANIMAL'), (7.0, 8.0,...</td>\n",
       "    </tr>\n",
       "  </tbody>\n",
       "</table>\n",
       "</div>"
      ],
      "text/plain": [
       "                                                Text  \\\n",
       "0  Horses are too tall and they pretend to care a...   \n",
       "1                                      Do they bite?   \n",
       "2  horses are too tall and they pretend to care a...   \n",
       "3  they pretend to care about your feelings, thos...   \n",
       "4                                            horses?   \n",
       "5                        Horse is a national animal.   \n",
       "\n",
       "                                            Entities  \n",
       "0  {'entities': [(0.0, 6.0, 'ANIMAL'), (8.0, 11.0...  \n",
       "1                                 {'entities': [[]]}  \n",
       "2  {'entities': [(0.0, 6.0, 'ANIMAL'), (8.0, 11.0...  \n",
       "3             {'entities': [(48.0, 54.0, 'ANIMAL')]}  \n",
       "4               {'entities': [(0.0, 6.0, 'ANIMAL')]}  \n",
       "5  {'entities': [(0.0, 5.0, 'ANIMAL'), (7.0, 8.0,...  "
      ]
     },
     "execution_count": 200,
     "metadata": {},
     "output_type": "execute_result"
    }
   ],
   "source": [
    "res_final"
   ]
  },
  {
   "cell_type": "code",
   "execution_count": 202,
   "metadata": {},
   "outputs": [],
   "source": [
    "res_final.to_csv(\"C:\\\\Users\\\\manish_gupta38\\\\Desktop\\\\res_final.csv\",index=False)"
   ]
  }
 ],
 "metadata": {
  "kernelspec": {
   "display_name": "Python 3",
   "language": "python",
   "name": "python3"
  },
  "language_info": {
   "codemirror_mode": {
    "name": "ipython",
    "version": 3
   },
   "file_extension": ".py",
   "mimetype": "text/x-python",
   "name": "python",
   "nbconvert_exporter": "python",
   "pygments_lexer": "ipython3",
   "version": "3.6.5"
  }
 },
 "nbformat": 4,
 "nbformat_minor": 2
}
